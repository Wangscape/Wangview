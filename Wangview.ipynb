{
 "cells": [
  {
   "cell_type": "code",
   "execution_count": null,
   "metadata": {
    "collapsed": false
   },
   "outputs": [],
   "source": [
    "from Wangview.Display import Display\n",
    "import sys\n",
    "import argparse"
   ]
  },
  {
   "cell_type": "code",
   "execution_count": null,
   "metadata": {
    "collapsed": false
   },
   "outputs": [],
   "source": [
    "if __name__ == '__main__':\n",
    "    parser = argparse.ArgumentParser(description='Render random landscapes using Wangscape tiles')\n",
    "    parser.add_argument('path', type=str, default='.', help='Path to the folder containing the tileset and metadata')\n",
    "    parser.add_argument('--tile-groups', type=str, default='tile_groups.json', help='Name of the tile groups JSON file')\n",
    "    parser.add_argument('--terrain-hypergraph', type=str, default='terrain_hypergraph.json', help='Name of the terrain hypergraph JSON file')\n",
    "    parser.add_argument('--tileset-data', type=str, default='tilesets.json', help='Name of the tileset data JSON file')\n",
    "    parser.add_argument('--fps', type=int, default=30, help='Maximum frames per second')\n",
    "    map_parser = parser.add_mutually_exclusive_group()\n",
    "    map_parser.add_argument('--size', type=int, dest='map_mode', nargs=2, metavar=('x','y'), help='Size of the map display')\n",
    "    map_parser.add_argument('--fixed-map', type=str, dest='map_mode', help='Name of a JSON file with a fixed map')\n",
    "    output_parser = parser.add_argument_group()\n",
    "    output_parser.add_argument('--display', dest='output_mode', action='append_const', const=True, help='Display maps in a GUI interface')\n",
    "    output_parser.add_argument('--output', dest='output_mode', action='append', type=str, help='Write an image to file')\n",
    "    parser.set_defaults(map_mode=[30,20], output_mode=[])\n",
    "    args = parser.parse_args()\n",
    "    try:\n",
    "        w = Display(rel_path = args.path,\n",
    "                    fn_tile_groups = args.tile_groups,\n",
    "                    fn_terrain_hypergraph = args.terrain_hypergraph,\n",
    "                    fn_tileset_data = args.tileset_data,\n",
    "                    fps = args.fps,\n",
    "                    map_mode = args.map_mode,\n",
    "                    output_mode = args.output_mode)\n",
    "        w.run()\n",
    "    except (IndexError, FileNotFoundError):\n",
    "        parser.print_help()\n",
    "        raise"
   ]
  }
 ],
 "metadata": {
  "anaconda-cloud": {},
  "kernelspec": {
   "display_name": "Python [conda root]",
   "language": "python",
   "name": "conda-root-py"
  },
  "language_info": {
   "codemirror_mode": {
    "name": "ipython",
    "version": 3
   },
   "file_extension": ".py",
   "mimetype": "text/x-python",
   "name": "python",
   "nbconvert_exporter": "python",
   "pygments_lexer": "ipython3",
   "version": "3.5.2"
  }
 },
 "nbformat": 4,
 "nbformat_minor": 1
}
