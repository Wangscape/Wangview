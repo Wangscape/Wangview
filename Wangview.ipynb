{
 "cells": [
  {
   "cell_type": "code",
   "execution_count": null,
   "metadata": {
    "collapsed": false
   },
   "outputs": [],
   "source": [
    "from Wangview.Display import Display\n",
    "import sys\n",
    "import argparse"
   ]
  },
  {
   "cell_type": "code",
   "execution_count": null,
   "metadata": {
    "collapsed": false
   },
   "outputs": [],
   "source": [
    "if __name__ == '__main__':\n",
    "    parser = argparse.ArgumentParser(description=\"Render random landscapes using Wangscape tiles\")\n",
    "    parser.add_argument(\"path\", type=str, default=\".\", help=\"Path to the folder containing the tileset and metadata\")\n",
    "    parser.add_argument(\"--tile-groups\", type=str, default=\"tile_groups.json\", help=\"Name of the tile groups JSON file\")\n",
    "    parser.add_argument(\"--terrain-hypergraph\", type=str, default=\"terrain_hypergraph.json\", help=\"Name of the terrain hypergraph JSON file\")\n",
    "    parser.add_argument(\"--tileset-data\", type=str, default=\"tilesets.json\", help=\"Name of the tileset data JSON file\")\n",
    "    # parser.add_argument(\"--fps\", type=int, default=30, help=\"Maximum frames per second\")\n",
    "    # parser.add_argument(\"--map\", type=str, default=None, help=\"Name of a JSON file with a fixed map\")\n",
    "    args = parser.parse_args()\n",
    "    print(args)\n",
    "    try:\n",
    "        w = Display(args.path, args.tile_groups, args.terrain_hypergraph, args.tileset_data)\n",
    "        w.run()\n",
    "    except (IndexError, FileNotFoundError):\n",
    "        parser.print_help()\n",
    "        raise"
   ]
  }
 ],
 "metadata": {
  "anaconda-cloud": {},
  "kernelspec": {
   "display_name": "Python [conda root]",
   "language": "python",
   "name": "conda-root-py"
  },
  "language_info": {
   "codemirror_mode": {
    "name": "ipython",
    "version": 3
   },
   "file_extension": ".py",
   "mimetype": "text/x-python",
   "name": "python",
   "nbconvert_exporter": "python",
   "pygments_lexer": "ipython3",
   "version": "3.5.2"
  }
 },
 "nbformat": 4,
 "nbformat_minor": 1
}
