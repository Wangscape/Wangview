{
 "cells": [
  {
   "cell_type": "code",
   "execution_count": null,
   "metadata": {
    "collapsed": false
   },
   "outputs": [],
   "source": [
    "from bearlibterminal import terminal as blt\n",
    "import json\n",
    "from collections import deque, namedtuple\n",
    "from itertools import product\n",
    "import random\n",
    "from functools import reduce\n",
    "from os import path"
   ]
  },
  {
   "cell_type": "code",
   "execution_count": null,
   "metadata": {
    "collapsed": false
   },
   "outputs": [],
   "source": [
    "class Wangview(object):\n",
    "    def __init__(self,\n",
    "                 rel_path='.',\n",
    "                 fn_tile_groups='tile_groups.json',\n",
    "                 fn_terrain_hypergraph='terrain_hypergraph.json',\n",
    "                 fn_tileset_data='tilesets.json'):\n",
    "        self.rel_path = rel_path\n",
    "        with open(path.join(rel_path, fn_tileset_data),'r') as f:\n",
    "            self.init_tilesets(json.load(f))\n",
    "        with open(path.join(rel_path,fn_tile_groups),'r') as f:\n",
    "            self.init_tile_groups(json.load(f))\n",
    "        with open(path.join(rel_path, fn_terrain_hypergraph),'r') as f:\n",
    "            self.hypergraph = Hypergraph(json.load(f))\n",
    "        self.terminal_width = blt.state(blt.TK_WIDTH)\n",
    "        self.terminal_height = blt.state(blt.TK_HEIGHT)\n",
    "        self.terrain_width = self.terminal_width+2\n",
    "        self.terrain_height = self.terminal_height+2\n",
    "        self.tile_width = self.terminal_width+1\n",
    "        self.tile_height = self.terminal_height+1\n",
    "        self.init_terrain_map()\n",
    "        self.init_tile_map()\n",
    "    def simplify_tile(self, tile):\n",
    "        tileset = self.tilesets[tile['file']]\n",
    "        return (tileset.offset +\n",
    "                tileset.width*tile['y']//self.resolution +\n",
    "                tile['x']//self.resolution)\n",
    "    def simplify_tile_group(self, tile_group):\n",
    "        return [self.simplify_tile(tile) for tile in tile_group]\n",
    "    def init_tile_groups(self, raw_groups):\n",
    "        self.tile_groups = {tuple(k.split('.')):self.simplify_tile_group(v)\n",
    "                            for (k,v) in raw_groups.items()}\n",
    "    def init_tilesets(self, raw_tileset_data):\n",
    "        self.resolution = raw_tileset_data.pop('resolution')\n",
    "        blt.open()\n",
    "        config_string = \"window: size=30x20, cellsize={0}x{0}, title='Wangview'\".format(\n",
    "            self.resolution)\n",
    "        #print(config_string)\n",
    "        blt.set(config_string)\n",
    "        tileset_offset_counter = 0xE000\n",
    "        self.tilesets = {}\n",
    "        for filename, tileset in raw_tileset_data.items():\n",
    "            rx = tileset['x']//self.resolution\n",
    "            ry = tileset['y']//self.resolution\n",
    "            self.tilesets[filename] = Tileset(\n",
    "                filename, tileset_offset_counter,\n",
    "                rx,ry, tuple(tileset['terrains']))\n",
    "            config_string = \"0x{0:x}: {1}, size={2}x{2}\".format(\n",
    "                    tileset_offset_counter,\n",
    "                    path.join(self.rel_path, filename),\n",
    "                    self.resolution)\n",
    "            #print(config_string)\n",
    "            blt.set(config_string)\n",
    "            tileset_offset_counter += rx*ry\n",
    "    def init_terrain_map(self):\n",
    "        terrain_iter = self.hypergraph.generate_lines(\n",
    "            self.terrain_width, self.terrain_height)\n",
    "        terrain_deque_iter = (deque(line, self.terrain_width)\n",
    "                              for line in terrain_iter)\n",
    "        self.terrain_map = deque(terrain_deque_iter, self.terrain_height)\n",
    "    def init_tile_map(self):\n",
    "        tile_iter = ((self.select_tile(self.get_tile_corners(x,y))\n",
    "                      for x in range(self.tile_width))\n",
    "                     for y in range(self.tile_height))\n",
    "        tile_deque_iter = (deque(line, self.tile_width) for line in tile_iter)\n",
    "        self.tile_map = deque(tile_deque_iter, self.tile_height)\n",
    "    def get_tile_corners(self, x, y):\n",
    "        return (self.terrain_map[y][x]\n",
    "                for (x,y) in\n",
    "                product((x,x+1),(y,y+1)))\n",
    "    def select_tile(self, corners):\n",
    "        return random.choice(self.tile_groups[tuple(corners)])\n",
    "    def draw_iter(self):\n",
    "        for y, line in enumerate(self.tile_map):\n",
    "            dy =-self.resolution//2\n",
    "            if y == self.tile_height-1:\n",
    "                y -= 1\n",
    "                dy += self.resolution\n",
    "            for x, c in enumerate(line):\n",
    "                dx = -self.resolution//2\n",
    "                if x == self.tile_width-1:\n",
    "                    x -= 1\n",
    "                    dx += self.resolution\n",
    "                yield (x,y,dx,dy,c)\n",
    "    def draw(self):\n",
    "        for draw_args in self.draw_iter():\n",
    "            blt.put_ext(*draw_args)\n",
    "    def run(self):\n",
    "        stop = False\n",
    "        blt.composition(True)\n",
    "        while not stop:\n",
    "            blt.clear()\n",
    "            self.draw()\n",
    "            blt.refresh()\n",
    "            while blt.has_input():\n",
    "                kp = blt.read()\n",
    "                if kp == blt.TK_CLOSE:\n",
    "                    stop = True\n",
    "                elif kp == blt.TK_ESCAPE:\n",
    "                    stop = True\n",
    "                elif kp == blt.TK_SPACE:\n",
    "                    self.init_terrain_map()\n",
    "                    self.init_tile_map()\n",
    "        blt.close()"
   ]
  },
  {
   "cell_type": "code",
   "execution_count": null,
   "metadata": {
    "collapsed": true
   },
   "outputs": [],
   "source": [
    "Tileset = namedtuple('Tileset',['filename','offset','width','height','clique'])"
   ]
  },
  {
   "cell_type": "code",
   "execution_count": null,
   "metadata": {
    "collapsed": true
   },
   "outputs": [],
   "source": [
    "class Hypergraph(object):\n",
    "    def __init__(self, raw_hypergraph):\n",
    "        self.data = {k: frozenset(map(frozenset,v))\n",
    "                     for (k,v) in raw_hypergraph.items()}\n",
    "    @staticmethod\n",
    "    def flatten_options(options):\n",
    "        return reduce(lambda x,y: x.union(y),\n",
    "                      options,\n",
    "                      frozenset())\n",
    "    def terrain_options(self, *terrains):\n",
    "        if len(terrains) == 0:\n",
    "            return list(self.data.keys())\n",
    "        return self.flatten_options(reduce(\n",
    "                lambda options, terrain: [clique for clique in options if terrain in clique],\n",
    "                terrains[1:], list(self.data[terrains[0]])))\n",
    "    def terrain_options_2(self, t_left=[], t_up=[]):\n",
    "        if len(t_up) == 0:\n",
    "            return self.terrain_options(*t_left)\n",
    "        x = self.terrain_options(*(t_left+t_up[:2]))\n",
    "        if len(t_up) == 3:\n",
    "            y = self.terrain_options(*t_up[1:])\n",
    "            return x.intersection(y)\n",
    "        return x\n",
    "    def generate_line(self, width, previous_line=None):\n",
    "        new_line = []\n",
    "        t_left = []\n",
    "        t_up = []\n",
    "        for i in range(width):\n",
    "            if previous_line is not None:\n",
    "                t_up = previous_line[max(0,i-1):i+2]\n",
    "            options = self.terrain_options_2(t_left, t_up)\n",
    "            new_line.append(random.choice(list(options)))\n",
    "            t_left = [new_line[-1]]\n",
    "        return new_line\n",
    "    def generate_lines(self, width, height):\n",
    "        line = self.generate_line(width)\n",
    "        yield line\n",
    "        for i in range(height):\n",
    "            line = self.generate_line(width, line)\n",
    "            yield line"
   ]
  },
  {
   "cell_type": "code",
   "execution_count": null,
   "metadata": {
    "collapsed": false
   },
   "outputs": [],
   "source": [
    "# th = Hypergraph({'a':[['a','b'],['c','a']],\n",
    "#                  'b':[['a','b'],['b','c']],\n",
    "#                  'c':[['b','c'],['c','a']]})\n",
    "# for i in map(lambda x: print(''.join(x)), th.generate_lines(10,10)):\n",
    "#     pass"
   ]
  },
  {
   "cell_type": "code",
   "execution_count": null,
   "metadata": {
    "collapsed": true
   },
   "outputs": [],
   "source": [
    "def wangview(*args, **kwargs):\n",
    "    w = Wangview(*args, **kwargs)\n",
    "    w.run()"
   ]
  },
  {
   "cell_type": "code",
   "execution_count": null,
   "metadata": {
    "collapsed": false
   },
   "outputs": [],
   "source": [
    "# try:\n",
    "#     wangview('../Wangscape/example3/output')\n",
    "# except:\n",
    "#     blt.close()\n",
    "#     raise"
   ]
  },
  {
   "cell_type": "code",
   "execution_count": null,
   "metadata": {
    "collapsed": false
   },
   "outputs": [],
   "source": [
    "if __name__ == '__main__':\n",
    "    import sys\n",
    "    try:\n",
    "        wangview(*sys.argv[1:])\n",
    "    except (IndexError, FileNotFoundError):\n",
    "        print('Usage: Wangview.py [path [tile_groups.json [terrain_hypergraph.json [tileset_data.json]]]]')"
   ]
  }
 ],
 "metadata": {
  "anaconda-cloud": {},
  "kernelspec": {
   "display_name": "Python [conda root]",
   "language": "python",
   "name": "conda-root-py"
  },
  "language_info": {
   "codemirror_mode": {
    "name": "ipython",
    "version": 3
   },
   "file_extension": ".py",
   "mimetype": "text/x-python",
   "name": "python",
   "nbconvert_exporter": "python",
   "pygments_lexer": "ipython3",
   "version": "3.5.2"
  }
 },
 "nbformat": 4,
 "nbformat_minor": 1
}
