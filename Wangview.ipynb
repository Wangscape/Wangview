{
 "cells": [
  {
   "cell_type": "code",
   "execution_count": null,
   "metadata": {
    "collapsed": false
   },
   "outputs": [],
   "source": [
    "from bearlibterminal import terminal as blt\n",
    "import json\n",
    "from collections import defaultdict\n",
    "from itertools import product\n",
    "from functools import reduce"
   ]
  },
  {
   "cell_type": "code",
   "execution_count": null,
   "metadata": {
    "collapsed": true
   },
   "outputs": [],
   "source": [
    "def terrain_graph(tileset_data):\n",
    "    tg = defaultdict(lambda:set())\n",
    "    for ts in tileset_data.values():\n",
    "        for t1,t2 in product(ts['terrains'],ts['terrains']):\n",
    "            tg[t1].add(t1)\n",
    "            tg[t1].add(t2)\n",
    "            tg[t2].add(t1)\n",
    "            tg[t2].add(t2)\n",
    "    return {k:frozenset(v) for (k,v) in tg.items()}"
   ]
  },
  {
   "cell_type": "code",
   "execution_count": null,
   "metadata": {
    "collapsed": true
   },
   "outputs": [],
   "source": [
    "def adjacency_options(adjacency, *terrains):\n",
    "    return reduce(lambda x,y: x.intersection(y),\n",
    "                  (adjacency[t] for t in terrains))"
   ]
  },
  {
   "cell_type": "code",
   "execution_count": null,
   "metadata": {
    "collapsed": true
   },
   "outputs": [],
   "source": [
    "def generate_line(previous_line):\n",
    "    new_line = []\n",
    "    new_line.append()"
   ]
  },
  {
   "cell_type": "code",
   "execution_count": null,
   "metadata": {
    "collapsed": false
   },
   "outputs": [],
   "source": [
    "tg = terrain_graph(json.load(open('../Wangscape/example/output/tilesets.json')))"
   ]
  },
  {
   "cell_type": "code",
   "execution_count": null,
   "metadata": {
    "collapsed": false
   },
   "outputs": [],
   "source": [
    "adjacency_options(tg,'g')"
   ]
  },
  {
   "cell_type": "code",
   "execution_count": null,
   "metadata": {
    "collapsed": true
   },
   "outputs": [],
   "source": [
    "def wangview(fn_tile_groups, fn_tileset_data):\n",
    "    with open(fn_tileset_data,'r') as f:\n",
    "        tileset_data = json.load(f)\n",
    "    with open(fn_tile_groups,'r') as f:\n",
    "        tile_groups = json.load(f)\n",
    "    adjacency = terrain_graph(tileset_data)"
   ]
  },
  {
   "cell_type": "code",
   "execution_count": null,
   "metadata": {
    "collapsed": true
   },
   "outputs": [],
   "source": []
  },
  {
   "cell_type": "code",
   "execution_count": null,
   "metadata": {
    "collapsed": false
   },
   "outputs": [],
   "source": [
    "if __name__ == '__main__':\n",
    "    import sys\n",
    "    try:\n",
    "        wangview(sys.argv[1], sys.argv[2])\n",
    "    except (IndexError, FileNotFoundError):\n",
    "        print('Usage: Wangview.py tile_groups.json tilesets.json')"
   ]
  }
 ],
 "metadata": {
  "anaconda-cloud": {},
  "kernelspec": {
   "display_name": "Python [conda root]",
   "language": "python",
   "name": "conda-root-py"
  },
  "language_info": {
   "codemirror_mode": {
    "name": "ipython",
    "version": 3
   },
   "file_extension": ".py",
   "mimetype": "text/x-python",
   "name": "python",
   "nbconvert_exporter": "python",
   "pygments_lexer": "ipython3",
   "version": "3.5.2"
  }
 },
 "nbformat": 4,
 "nbformat_minor": 1
}
