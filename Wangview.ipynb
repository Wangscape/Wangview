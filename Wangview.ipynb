{
 "cells": [
  {
   "cell_type": "code",
   "execution_count": null,
   "metadata": {
    "collapsed": false
   },
   "outputs": [],
   "source": [
    "from bearlibterminal import terminal as blt\n",
    "import json\n",
    "from collections import defaultdict\n",
    "from itertools import product\n",
    "from functools import reduce"
   ]
  },
  {
   "cell_type": "code",
   "execution_count": null,
   "metadata": {
    "collapsed": true
   },
   "outputs": [],
   "source": [
    "def terrain_graph(raw_graph):\n",
    "    return {k:frozenset(v) for (k,v) in raw_graph.items()}"
   ]
  },
  {
   "cell_type": "code",
   "execution_count": null,
   "metadata": {
    "collapsed": true
   },
   "outputs": [],
   "source": [
    "def adjacency_options(adjacency, *terrains):\n",
    "    return reduce(lambda x,y: x.intersection(y),\n",
    "                  (adjacency[t] for t in terrains))"
   ]
  },
  {
   "cell_type": "code",
   "execution_count": null,
   "metadata": {
    "collapsed": true
   },
   "outputs": [],
   "source": [
    "def generate_line(previous_line=None):\n",
    "    new_line = []\n",
    "    new_line.append()"
   ]
  },
  {
   "cell_type": "code",
   "execution_count": null,
   "metadata": {
    "collapsed": true
   },
   "outputs": [],
   "source": [
    "def wangview(fn_tile_groups, fn_terrain_adjacency):\n",
    "    with open(fn_tile_groups,'r') as f:\n",
    "        tile_groups = json.load(f)\n",
    "    with open(fn_terrain_adjacency,'r') as f:\n",
    "        terrain_adjacency = terrain_graph(json.load(f))"
   ]
  },
  {
   "cell_type": "code",
   "execution_count": null,
   "metadata": {
    "collapsed": false
   },
   "outputs": [],
   "source": [
    "wangview('../Wangscape/example/output/tile_groups.json',\n",
    "         '../Wangscape/example/output/terrain_adjacency.json')"
   ]
  },
  {
   "cell_type": "code",
   "execution_count": null,
   "metadata": {
    "collapsed": false
   },
   "outputs": [],
   "source": [
    "if __name__ == '__main__':\n",
    "    import sys\n",
    "    try:\n",
    "        wangview(sys.argv[1], sys.argv[2])\n",
    "    except (IndexError, FileNotFoundError):\n",
    "        print('Usage: Wangview.py tile_groups.json terrain_adjacency.json')"
   ]
  }
 ],
 "metadata": {
  "anaconda-cloud": {},
  "kernelspec": {
   "display_name": "Python [conda root]",
   "language": "python",
   "name": "conda-root-py"
  },
  "language_info": {
   "codemirror_mode": {
    "name": "ipython",
    "version": 3
   },
   "file_extension": ".py",
   "mimetype": "text/x-python",
   "name": "python",
   "nbconvert_exporter": "python",
   "pygments_lexer": "ipython3",
   "version": "3.5.2"
  }
 },
 "nbformat": 4,
 "nbformat_minor": 1
}
