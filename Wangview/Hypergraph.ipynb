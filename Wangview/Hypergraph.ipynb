{
 "cells": [
  {
   "cell_type": "code",
   "execution_count": null,
   "metadata": {
    "collapsed": true
   },
   "outputs": [],
   "source": [
    "from functools import reduce\n",
    "import random"
   ]
  },
  {
   "cell_type": "code",
   "execution_count": null,
   "metadata": {
    "collapsed": true
   },
   "outputs": [],
   "source": [
    "class Hypergraph(object):\n",
    "    \"\"\"\n",
    "    Stores data specifying which terrains can be present in a single tile,\n",
    "    and uses that data to generate random terrain grids.\n",
    "    \"\"\"\n",
    "    def __init__(self, raw_hypergraph):\n",
    "        # Input data is a dict of lists of lists.\n",
    "        # Convert it to a dict of frozensets of frozensets.\n",
    "        self.data = {k: frozenset(map(frozenset,v))\n",
    "                     for (k,v) in raw_hypergraph.items()}\n",
    "    @staticmethod\n",
    "    def flatten_options(options):\n",
    "        \"\"\"Returns the union of the all the sets contained in `options`\"\"\"\n",
    "        return reduce(lambda x,y: x.union(y),\n",
    "                      options,\n",
    "                      frozenset())\n",
    "    def terrain_options(self, *terrains):\n",
    "        \"\"\"\n",
    "        Returns a frozenset containing the terrains which\n",
    "        can legally be placed in the same tile as the\n",
    "        terrains contained in `terrains`.\n",
    "        \"\"\"\n",
    "        if len(terrains) == 0:\n",
    "            # All terrains are valid\n",
    "            return list(self.data.keys())\n",
    "        # Start with the list of hyperedges (cliques) containing the first terrain:\n",
    "        start = list(self.data[terrains[0]])\n",
    "        # For each additional terrain:\n",
    "        seq = terrains[1:]\n",
    "        # Restrict the list of cliques to those containing this terrain\n",
    "        combine = lambda options, terrain: [clique for clique in options if terrain in clique]\n",
    "        # Take the union of the remaining cliques\n",
    "        return self.flatten_options(reduce(combine, seq, start))\n",
    "    def terrain_options_2(self, t_left=[], t_up=[]):\n",
    "        if len(t_up) == 0:\n",
    "            return self.terrain_options(*t_left)\n",
    "        x = self.terrain_options(*(t_left+t_up[:2]))\n",
    "        if len(t_up) == 3:\n",
    "            y = self.terrain_options(*t_up[1:])\n",
    "            return x.intersection(y)\n",
    "        return x\n",
    "    def generate_line(self, width, previous_line=None):\n",
    "        new_line = []\n",
    "        t_left = []\n",
    "        t_up = []\n",
    "        for i in range(width):\n",
    "            if previous_line is not None:\n",
    "                t_up = previous_line[max(0,i-1):i+2]\n",
    "            options = self.terrain_options_2(t_left, t_up)\n",
    "            new_line.append(random.choice(list(options)))\n",
    "            t_left = [new_line[-1]]\n",
    "        return new_line\n",
    "    def generate_lines(self, width, height):\n",
    "        line = self.generate_line(width)\n",
    "        yield line\n",
    "        for i in range(height):\n",
    "            line = self.generate_line(width, line)\n",
    "            yield line"
   ]
  },
  {
   "cell_type": "code",
   "execution_count": null,
   "metadata": {
    "collapsed": false
   },
   "outputs": [],
   "source": [
    "if __name__ == '__main__':\n",
    "    th = Hypergraph({'a':[['a','b'],['c','a']],\n",
    "                     'b':[['a','b'],['b','c']],\n",
    "                     'c':[['b','c'],['c','a']]})\n",
    "    for line in th.generate_lines(10,10):\n",
    "        print(''.join(line)), "
   ]
  }
 ],
 "metadata": {
  "anaconda-cloud": {},
  "kernelspec": {
   "display_name": "Python [conda root]",
   "language": "python",
   "name": "conda-root-py"
  },
  "language_info": {
   "codemirror_mode": {
    "name": "ipython",
    "version": 3
   },
   "file_extension": ".py",
   "mimetype": "text/x-python",
   "name": "python",
   "nbconvert_exporter": "python",
   "pygments_lexer": "ipython3",
   "version": "3.5.2"
  }
 },
 "nbformat": 4,
 "nbformat_minor": 1
}
