{
 "cells": [
  {
   "cell_type": "code",
   "execution_count": null,
   "metadata": {
    "collapsed": true
   },
   "outputs": [],
   "source": [
    "import json\n",
    "import random"
   ]
  },
  {
   "cell_type": "code",
   "execution_count": null,
   "metadata": {
    "collapsed": true
   },
   "outputs": [],
   "source": [
    "class TileGroups(object):\n",
    "    def __init__(self, tilesets):\n",
    "        self.tilesets = tilesets\n",
    "        self.tile_groups = {}\n",
    "    \n",
    "    @classmethod\n",
    "    def from_data(cls, tilesets, raw_groups):\n",
    "        tg = cls(tilesets)\n",
    "        tg.init_tile_groups(raw_groups)\n",
    "        return tg\n",
    "    \n",
    "    @classmethod\n",
    "    def from_file(cls, tilesets, filename):\n",
    "        tg = cls(tilesets)\n",
    "        tg.load(filename)\n",
    "        return tg\n",
    "        \n",
    "    def load(self, filename):\n",
    "        with open(filename, 'r') as f:\n",
    "            raw_tile_groups = json.load(f)\n",
    "        self.init_tile_groups(raw_tile_groups)\n",
    "    \n",
    "    def simplify_tile_group(self, tile_group):\n",
    "        \"\"\"Converts every tile in a group into a unicode codepoint\"\"\"\n",
    "        return [self.tilesets.simplify_tile(tile) for tile in tile_group]\n",
    "    \n",
    "    def init_tile_groups(self, raw_tile_groups):\n",
    "        \"\"\"\n",
    "        Converts the data the `tile_groups.json` metadata file\n",
    "        into a format suitable for Wangview,\n",
    "        and stores it in self.tile_groups.\n",
    "        Example input:\n",
    "        {\"g.g.g.g\": [{\"filename\": \"g.s.png\", \"x\":0, \"y\":0},\n",
    "                     {\"filename\": \"v.g.png\", \"x\":96,\"y\":96}]}\n",
    "        output:\n",
    "        {(\"g\", \"g\", \"g\", \"g\"): [0xe000, 0xe01f]}\n",
    "        \"\"\"\n",
    "        self.tile_groups = {tuple(k.split('.')):self.simplify_tile_group(v)\n",
    "                            for (k,v) in raw_tile_groups.items()}\n",
    "        \n",
    "    def select_tile(self, corners):\n",
    "        \"\"\"Selects a random tile that has the specified terrain values in its corners\"\"\"\n",
    "        return random.choice(self.tile_groups[tuple(corners)])"
   ]
  }
 ],
 "metadata": {
  "kernelspec": {
   "display_name": "Python [conda root]",
   "language": "python",
   "name": "conda-root-py"
  },
  "language_info": {
   "codemirror_mode": {
    "name": "ipython",
    "version": 3
   },
   "file_extension": ".py",
   "mimetype": "text/x-python",
   "name": "python",
   "nbconvert_exporter": "python",
   "pygments_lexer": "ipython3",
   "version": "3.5.2"
  }
 },
 "nbformat": 4,
 "nbformat_minor": 2
}
