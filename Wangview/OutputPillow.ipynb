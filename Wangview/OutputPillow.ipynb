{
 "cells": [
  {
   "cell_type": "code",
   "execution_count": 5,
   "metadata": {
    "collapsed": false
   },
   "outputs": [],
   "source": [
    "import PIL\n",
    "from PIL import ImageFile\n",
    "from PIL import Image"
   ]
  },
  {
   "cell_type": "code",
   "execution_count": null,
   "metadata": {
    "collapsed": true
   },
   "outputs": [],
   "source": [
    "class OutputPillow(object):\n",
    "    def __init__(self, filename):\n",
    "        self._tiles = {}\n",
    "        self.filename = filename\n",
    "    def set_size(self, width, height):\n",
    "        self.width = width\n",
    "        self.height = height\n",
    "    def set_resolution(self, tile_width, tile_height):\n",
    "        self.tile_width = tile_width\n",
    "        self.tile_height = tile_height\n",
    "    def initialise(self):\n",
    "        self.clear()\n",
    "    def load_tileset(self, offset, filename):\n",
    "        tileset = Image.open(filename)\n",
    "        tileset_width = tileset.width//self.tile_width\n",
    "        tileset_height = tileset.height//self.tile_height\n",
    "        for y in range(tileset_height):\n",
    "            for x in range(tileset_width):\n",
    "                square =  (x*self.tile_width, y*self.tile_height,\n",
    "                           (x+1)*self.tile_width, (y+1)*self.tile_height)\n",
    "                tile_offset = offset + y*tileset_width + x\n",
    "                self._tiles[tile_offset] = tileset.crop(square)\n",
    "    def put_ext(self, x,y,dx,dy,c):\n",
    "        self.image.paste(self._tiles[c], (x*self.tile_width + dx, y*self.tile_height + dy))\n",
    "    def refresh(self):\n",
    "        self.image.save(self.filename)\n",
    "    def clear(self):\n",
    "        self.image = Image.new('RGBA', (self.width*self.tile_width,\n",
    "                                        self.height*self.tile_height))\n",
    "    def signal(self):\n",
    "        return 'stop'\n",
    "    def close(self):\n",
    "        pass"
   ]
  }
 ],
 "metadata": {
  "kernelspec": {
   "display_name": "Python [conda root]",
   "language": "python",
   "name": "conda-root-py"
  },
  "language_info": {
   "codemirror_mode": {
    "name": "ipython",
    "version": 3
   },
   "file_extension": ".py",
   "mimetype": "text/x-python",
   "name": "python",
   "nbconvert_exporter": "python",
   "pygments_lexer": "ipython3",
   "version": "3.5.2"
  }
 },
 "nbformat": 4,
 "nbformat_minor": 2
}
