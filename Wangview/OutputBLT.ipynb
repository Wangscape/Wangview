{
 "cells": [
  {
   "cell_type": "code",
   "execution_count": 1,
   "metadata": {
    "collapsed": true
   },
   "outputs": [],
   "source": [
    "from bearlibterminal import terminal as blt"
   ]
  },
  {
   "cell_type": "code",
   "execution_count": null,
   "metadata": {
    "collapsed": true
   },
   "outputs": [],
   "source": [
    "class OutputBLT(object):\n",
    "    def __init__(self):\n",
    "        pass\n",
    "    def set_size(self, width, height):\n",
    "        self.width = width\n",
    "        self.height = height\n",
    "    def set_resolution(self, tile_width, tile_height):\n",
    "        self.tile_width = tile_width\n",
    "        self.tile_height = tile_height\n",
    "    def initialise(self):\n",
    "        blt.open()\n",
    "        blt.composition(True)\n",
    "        config_string = \"window: size={0}x{1}, cellsize={2}x{3}, title='Wangview'\".format(\n",
    "            self.width, self.height, self.tile_width, self.tile_height)\n",
    "        blt.set(config_string)\n",
    "    def load_tileset(self, offset, filename):\n",
    "        config_string = \"0x{0:x}: {1}, size={2}x{3}\".format(\n",
    "            offset, filename, self.tile_width, self.tile_height)\n",
    "        blt.set(config_string)\n",
    "    def put_ext(self, x,y,dx,dy,c):\n",
    "        blt.put_ext(x,y,dx,dy,c)\n",
    "    def refresh(self):\n",
    "        blt.refresh()\n",
    "    def clear(self):\n",
    "        blt.clear()\n",
    "    def signal(self):\n",
    "        while blt.has_input():\n",
    "            kp = blt.read()\n",
    "            if kp in [blt.TK_CLOSE, blt.TK_ESCAPE]:\n",
    "                return 'stop'\n",
    "            if kp == blt.TK_SPACE:\n",
    "                return 'next'\n",
    "        return None\n",
    "    def close(self):\n",
    "        blt.close()"
   ]
  }
 ],
 "metadata": {
  "kernelspec": {
   "display_name": "Python [conda root]",
   "language": "python",
   "name": "conda-root-py"
  },
  "language_info": {
   "codemirror_mode": {
    "name": "ipython",
    "version": 3
   },
   "file_extension": ".py",
   "mimetype": "text/x-python",
   "name": "python",
   "nbconvert_exporter": "python",
   "pygments_lexer": "ipython3",
   "version": "3.5.2"
  }
 },
 "nbformat": 4,
 "nbformat_minor": 2
}
