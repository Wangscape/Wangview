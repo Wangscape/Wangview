{
 "cells": [
  {
   "cell_type": "code",
   "execution_count": null,
   "metadata": {
    "collapsed": false
   },
   "outputs": [],
   "source": [
    "from .Tileset import Tileset\n",
    "\n",
    "import json\n",
    "from os import path"
   ]
  },
  {
   "cell_type": "code",
   "execution_count": null,
   "metadata": {
    "collapsed": true
   },
   "outputs": [],
   "source": [
    "class TilesetInformation(object):\n",
    "    def __init__(self, outputs=[]):\n",
    "        self.outputs = list(outputs)\n",
    "    \n",
    "    def set_rel_path(self, rel_path):\n",
    "        self.rel_path = rel_path\n",
    "        \n",
    "    def set_resolution(self, tile_width, tile_height):\n",
    "        self.tile_width = tile_width\n",
    "        self.tile_height = tile_height\n",
    "        for output in self.outputs:\n",
    "            output.set_resolution(tile_width, tile_height)\n",
    "            output.initialise()\n",
    "            \n",
    "    def load_tilesets(self, filename):\n",
    "        with open(filename, 'r') as f:\n",
    "            raw_tileset_data = json.load(f)\n",
    "        self.init_tilesets(raw_tileset_data)\n",
    "            \n",
    "    def init_tilesets(self, raw_tileset_data):\n",
    "        first_tileset = True\n",
    "        for tileset in raw_tileset_data:\n",
    "            self.load_tileset(tileset, first_tileset)\n",
    "            first_tileset = False\n",
    "            \n",
    "    def load_tileset(self, tileset, is_first):\n",
    "        # All tilesets specify tile resolution\n",
    "        resolution = tileset['resolution']\n",
    "        if is_first:\n",
    "            # Use the first tileset's resolution\n",
    "            self.set_resolution(*resolution)\n",
    "            # Start tile unicode blocks in private space\n",
    "            self.tileset_offset_counter = 0xE000\n",
    "            # Initialise converted metadata\n",
    "            self.tilesets = {}\n",
    "        # Validate tileset's resolution\n",
    "        assert tuple(resolution) == (self.tile_width, self.tile_height)\n",
    "        # Calculate the number of tiles the tileset has in each axis\n",
    "        rx = tileset['x']//self.tile_width\n",
    "        ry = tileset['y']//self.tile_height\n",
    "        # Add the tileset's entry to the tileset container\n",
    "        filename = tileset['filename']\n",
    "        self.tilesets[filename] = Tileset(\n",
    "            filename, self.tileset_offset_counter,\n",
    "            rx,ry, tuple(tileset['terrains']))\n",
    "        # Load the tileset in the output modules\n",
    "        for output in self.outputs:\n",
    "            output.load_tileset(self.tileset_offset_counter,\n",
    "                                path.join(self.rel_path, filename))\n",
    "        # Insert the next tileset's tiles at the correct unicode codepoint\n",
    "        self.tileset_offset_counter += rx*ry\n",
    "        \n",
    "    def simplify_tile(self, tile):\n",
    "        \"\"\"\n",
    "        Converts a full specification of a tile's location in a tileset\n",
    "        into the unicode codepoint where it will have been loaded.\n",
    "        See also: `init_tilesets()`\n",
    "        \"\"\"\n",
    "        tileset = self.tilesets[tile['filename']]\n",
    "        return (tileset.offset +\n",
    "                tileset.width*tile['y']//self.tile_height +\n",
    "                tile['x']//self.tile_width)\n",
    "    "
   ]
  }
 ],
 "metadata": {
  "kernelspec": {
   "display_name": "Python [conda root]",
   "language": "python",
   "name": "conda-root-py"
  },
  "language_info": {
   "codemirror_mode": {
    "name": "ipython",
    "version": 3
   },
   "file_extension": ".py",
   "mimetype": "text/x-python",
   "name": "python",
   "nbconvert_exporter": "python",
   "pygments_lexer": "ipython3",
   "version": "3.5.2"
  }
 },
 "nbformat": 4,
 "nbformat_minor": 2
}
