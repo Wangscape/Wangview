{
 "cells": [
  {
   "cell_type": "code",
   "execution_count": 3,
   "metadata": {
    "collapsed": true
   },
   "outputs": [],
   "source": [
    "from collections import deque"
   ]
  },
  {
   "cell_type": "code",
   "execution_count": 290,
   "metadata": {
    "collapsed": false
   },
   "outputs": [],
   "source": [
    "class MapGrid(object):\n",
    "    \"\"\"Stores terrain and tile information for display.\"\"\"\n",
    "    def __init__(self, *size):\n",
    "        self._columns, self._rows = (0, 0)\n",
    "        self._columns_max, self._rows_max = size\n",
    "        self._grid = deque(maxlen=self._rows_max)\n",
    "    def full(self):\n",
    "        \"\"\"Returns True if the MapGrid is at full capacity, False otherwise.\"\"\"\n",
    "        return self._rows == self._rows_max and self._columns == self._columns_max\n",
    "    def _make_row(self, sequence):\n",
    "        \"\"\"Converts a sequence into a row object compatible with the MapGrid.\"\"\"\n",
    "        return deque(sequence, maxlen=self._columns_max)\n",
    "    def iter_border(self, horizontal, top_left):\n",
    "        \"\"\"Returns an iterator which yields values from one of the MapGrid's four borders.\"\"\"\n",
    "        if horizontal:\n",
    "            return self.row(0 if top_left else self._rows-1)\n",
    "        else:\n",
    "            return self.column(0 if top_left else self._columns-1)\n",
    "    def add_line(self, line, horizontal, top_left):\n",
    "        \"\"\"Appends a row or column to the MapGrid, rotating or growing as necessary.\"\"\"\n",
    "        line = list(line)\n",
    "        append = deque.appendleft if top_left else deque.append\n",
    "        if horizontal:\n",
    "            if self._columns == 0:\n",
    "                assert len(line) <= self._columns_max, \"first row too long\"\n",
    "                self._columns = len(line)\n",
    "            else:\n",
    "                assert len(line) == self._columns, \"wrong length row added\"\n",
    "            self._rows = min(self._rows+1, self._rows_max)\n",
    "            append(self._grid, self._make_row(line))\n",
    "        else:\n",
    "            if self._rows == 0:\n",
    "                assert len(line) <= self._rows_max, \"first column too long\"\n",
    "                self._rows = len(line)\n",
    "                for _ in range(len(line)):\n",
    "                    self._grid.append(self._make_row([]))\n",
    "            else:\n",
    "                assert len(line) == self._rows, \"wrong length column added\"\n",
    "            self._columns = min(self._columns+1, self._columns_max)\n",
    "            for terrain, row in zip(line, self._grid):\n",
    "                append(row,terrain)\n",
    "    def row(self, y):\n",
    "        return iter(self._grid[y])\n",
    "    def column(self, x):\n",
    "        return (line[x] for line in self._grid)\n",
    "    def __iter__(self):\n",
    "        for row in self._grid:\n",
    "            yield iter(row)\n",
    "    def __getitem__(self, xy):\n",
    "        x,y = xy\n",
    "        return self._grid[y][x]\n",
    "    def __str__(self):\n",
    "        \"\"\"Returns a string representation of the MapGrid's contents.\"\"\"\n",
    "        return '\\n'.join(' '.join(map(str,row)) for row in self._grid)"
   ]
  }
 ],
 "metadata": {
  "kernelspec": {
   "display_name": "Python [conda env:python36]",
   "language": "python",
   "name": "conda-env-python36-py"
  },
  "language_info": {
   "codemirror_mode": {
    "name": "ipython",
    "version": 3
   },
   "file_extension": ".py",
   "mimetype": "text/x-python",
   "name": "python",
   "nbconvert_exporter": "python",
   "pygments_lexer": "ipython3",
   "version": "3.6.1"
  }
 },
 "nbformat": 4,
 "nbformat_minor": 2
}
