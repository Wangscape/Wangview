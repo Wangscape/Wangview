{
 "cells": [
  {
   "cell_type": "code",
   "execution_count": null,
   "metadata": {
    "collapsed": true
   },
   "outputs": [],
   "source": [
    "from time import perf_counter, sleep\n",
    "\n",
    "class FPSLimiter:\n",
    "    \"\"\"\n",
    "    Allows framerates to be throttled and measured.\n",
    "    \"\"\"\n",
    "    def __init__(self, max_fps = 60):\n",
    "        self._frame_count = 0\n",
    "        self._fps = 0\n",
    "        self.set_max_fps(max_fps)\n",
    "        self._previous_time = perf_counter()\n",
    "        self._start_of_second = self._previous_time\n",
    "    def set_max_fps(self, max_fps):\n",
    "        \"\"\"\n",
    "        Changes the FPSLimiter's maximum framerate to max_fps.\n",
    "        \"\"\"\n",
    "        self._max_fps = max_fps\n",
    "        self._interval = 1./max_fps\n",
    "    def wait(self):\n",
    "        \"\"\"\n",
    "        When called every frame, prevents the maximum framerate from being\n",
    "        exceeded by calling time.sleep() with an appropriate interval.\n",
    "        \"\"\"\n",
    "        t = perf_counter()\n",
    "        self._frame_count += 1\n",
    "        if t - self._start_of_second >= 1.:\n",
    "            self._fps = self._frame_count\n",
    "            self._frame_count = 0\n",
    "            self._start_of_second = t\n",
    "        dt = t - self._previous_time\n",
    "        if(dt < self._interval):\n",
    "            sleep_interval = self._interval - dt\n",
    "            correct_sleep_interval  = min(self._interval, sleep_interval)\n",
    "            sleep(correct_sleep_interval)\n",
    "        self._previous_time = perf_counter()\n",
    "    def get_fps(self):\n",
    "        \"\"\"\n",
    "        Returns the number of times wait() was called in the last completed second.\n",
    "        \"\"\"\n",
    "        return self._fps"
   ]
  }
 ],
 "metadata": {
  "kernelspec": {
   "display_name": "Python [conda root]",
   "language": "python",
   "name": "conda-root-py"
  },
  "language_info": {
   "codemirror_mode": {
    "name": "ipython",
    "version": 3
   },
   "file_extension": ".py",
   "mimetype": "text/x-python",
   "name": "python",
   "nbconvert_exporter": "python",
   "pygments_lexer": "ipython3",
   "version": "3.5.2"
  }
 },
 "nbformat": 4,
 "nbformat_minor": 2
}
