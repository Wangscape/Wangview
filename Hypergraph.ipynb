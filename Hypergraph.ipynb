{
 "cells": [
  {
   "cell_type": "code",
   "execution_count": null,
   "metadata": {
    "collapsed": true
   },
   "outputs": [],
   "source": [
    "from functools import reduce\n",
    "import random"
   ]
  },
  {
   "cell_type": "code",
   "execution_count": null,
   "metadata": {
    "collapsed": true
   },
   "outputs": [],
   "source": [
    "class Hypergraph(object):\n",
    "    def __init__(self, raw_hypergraph):\n",
    "        self.data = {k: frozenset(map(frozenset,v))\n",
    "                     for (k,v) in raw_hypergraph.items()}\n",
    "    @staticmethod\n",
    "    def flatten_options(options):\n",
    "        return reduce(lambda x,y: x.union(y),\n",
    "                      options,\n",
    "                      frozenset())\n",
    "    def terrain_options(self, *terrains):\n",
    "        if len(terrains) == 0:\n",
    "            return list(self.data.keys())\n",
    "        return self.flatten_options(reduce(\n",
    "                lambda options, terrain: [clique for clique in options if terrain in clique],\n",
    "                terrains[1:], list(self.data[terrains[0]])))\n",
    "    def terrain_options_2(self, t_left=[], t_up=[]):\n",
    "        if len(t_up) == 0:\n",
    "            return self.terrain_options(*t_left)\n",
    "        x = self.terrain_options(*(t_left+t_up[:2]))\n",
    "        if len(t_up) == 3:\n",
    "            y = self.terrain_options(*t_up[1:])\n",
    "            return x.intersection(y)\n",
    "        return x\n",
    "    def generate_line(self, width, previous_line=None):\n",
    "        new_line = []\n",
    "        t_left = []\n",
    "        t_up = []\n",
    "        for i in range(width):\n",
    "            if previous_line is not None:\n",
    "                t_up = previous_line[max(0,i-1):i+2]\n",
    "            options = self.terrain_options_2(t_left, t_up)\n",
    "            new_line.append(random.choice(list(options)))\n",
    "            t_left = [new_line[-1]]\n",
    "        return new_line\n",
    "    def generate_lines(self, width, height):\n",
    "        line = self.generate_line(width)\n",
    "        yield line\n",
    "        for i in range(height):\n",
    "            line = self.generate_line(width, line)\n",
    "            yield line"
   ]
  }
 ],
 "metadata": {
  "anaconda-cloud": {},
  "kernelspec": {
   "display_name": "Python [conda root]",
   "language": "python",
   "name": "conda-root-py"
  },
  "language_info": {
   "codemirror_mode": {
    "name": "ipython",
    "version": 3
   },
   "file_extension": ".py",
   "mimetype": "text/x-python",
   "name": "python",
   "nbconvert_exporter": "python",
   "pygments_lexer": "ipython3",
   "version": "3.5.2"
  }
 },
 "nbformat": 4,
 "nbformat_minor": 1
}
